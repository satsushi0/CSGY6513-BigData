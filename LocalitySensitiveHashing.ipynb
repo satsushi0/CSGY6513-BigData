{
 "cells": [
  {
   "cell_type": "markdown",
   "id": "36ecae68",
   "metadata": {},
   "source": [
    "# CSGY-6513 Big Data Final Project\n",
    "In this notebook, I implement the Jaccard Similarity model with Min-Hash and Locality Sensitive Hashing on Kaggle Dataset."
   ]
  },
  {
   "cell_type": "markdown",
   "id": "72546dbb",
   "metadata": {},
   "source": [
    "## 1. Setting up PyMongo, Store the Data into MongoDB."
   ]
  },
  {
   "cell_type": "code",
   "execution_count": 1,
   "id": "9db39243",
   "metadata": {},
   "outputs": [],
   "source": [
    "from pymongo import MongoClient\n",
    "client = MongoClient(\"mongo-csgy-6513-fall.db\",\n",
    "                     username='as15106',\n",
    "                     password='as15106',\n",
    "                     authSource='as15106_db')\n",
    "db = client.as15106_db"
   ]
  },
  {
   "cell_type": "code",
   "execution_count": 2,
   "id": "70255b5b",
   "metadata": {},
   "outputs": [],
   "source": [
    "import pymongo\n",
    "import re\n",
    "import numpy as np\n",
    "import time"
   ]
  },
  {
   "cell_type": "code",
   "execution_count": 3,
   "id": "809f9232",
   "metadata": {},
   "outputs": [],
   "source": [
    "def show(cursor):\n",
    "    for c in cursor:\n",
    "        print(c)"
   ]
  },
  {
   "cell_type": "code",
   "execution_count": 4,
   "id": "54fd59ed",
   "metadata": {},
   "outputs": [
    {
     "data": {
      "text/plain": [
       "<pymongo.results.InsertManyResult at 0x7f8f64fb89d0>"
      ]
     },
     "execution_count": 4,
     "metadata": {},
     "output_type": "execute_result"
    }
   ],
   "source": [
    "import csv\n",
    "data = []\n",
    "with open('Combined_News_DJIA.csv', 'r') as f:\n",
    "    csvfile = csv.reader(f)\n",
    "    for i, row in enumerate(csvfile):\n",
    "        if i == 0:\n",
    "            header = row\n",
    "        else:\n",
    "            doc = {}\n",
    "            news = {}\n",
    "            if i <= 1789:\n",
    "                doc[\"category\"] = \"train\"\n",
    "            else:\n",
    "                doc[\"category\"] = \"test\"\n",
    "            for j in range(len(row)):\n",
    "                if header[j][:3] != \"Top\":\n",
    "                    doc[header[j]] = row[j]\n",
    "                else:\n",
    "                    news[header[j]] = {\"headline\": row[j]}\n",
    "            doc[\"news\"] = news\n",
    "            data.append(doc)\n",
    "db.data.drop()\n",
    "db.data.insert_many(data)"
   ]
  },
  {
   "cell_type": "code",
   "execution_count": 5,
   "id": "c32884cf",
   "metadata": {},
   "outputs": [
    {
     "data": {
      "text/plain": [
       "1989"
      ]
     },
     "execution_count": 5,
     "metadata": {},
     "output_type": "execute_result"
    }
   ],
   "source": [
    "db.data.count_documents({})"
   ]
  },
  {
   "cell_type": "code",
   "execution_count": 6,
   "id": "c9b2d86b",
   "metadata": {},
   "outputs": [
    {
     "data": {
      "text/plain": [
       "1789"
      ]
     },
     "execution_count": 6,
     "metadata": {},
     "output_type": "execute_result"
    }
   ],
   "source": [
    "db.data.count_documents({\"category\": \"train\"})"
   ]
  },
  {
   "cell_type": "code",
   "execution_count": 7,
   "id": "0ddd0e3c",
   "metadata": {},
   "outputs": [
    {
     "data": {
      "text/plain": [
       "200"
      ]
     },
     "execution_count": 7,
     "metadata": {},
     "output_type": "execute_result"
    }
   ],
   "source": [
    "db.data.count_documents({\"category\": \"test\"})"
   ]
  },
  {
   "cell_type": "code",
   "execution_count": 8,
   "id": "78a6ff4d",
   "metadata": {},
   "outputs": [
    {
     "name": "stdout",
     "output_type": "stream",
     "text": [
      "{'_id': ObjectId('639e0288587af75749150ef5'), 'category': 'train', 'Date': '2008-08-08', 'Label': '0', 'news': {'Top1': {'headline': 'b\"Georgia \\'downs two Russian warplanes\\' as countries move to brink of war\"'}, 'Top2': {'headline': \"b'BREAKING: Musharraf to be impeached.'\"}, 'Top3': {'headline': \"b'Russia Today: Columns of troops roll into South Ossetia; footage from fighting (YouTube)'\"}, 'Top4': {'headline': \"b'Russian tanks are moving towards the capital of South Ossetia, which has reportedly been completely destroyed by Georgian artillery fire'\"}, 'Top5': {'headline': 'b\"Afghan children raped with \\'impunity,\\' U.N. official says - this is sick, a three year old was raped and they do nothing\"'}, 'Top6': {'headline': \"b'150 Russian tanks have entered South Ossetia whilst Georgia shoots down two Russian jets.'\"}, 'Top7': {'headline': 'b\"Breaking: Georgia invades South Ossetia, Russia warned it would intervene on SO\\'s side\"'}, 'Top8': {'headline': 'b\"The \\'enemy combatent\\' trials are nothing but a sham: Salim Haman has been sentenced to 5 1/2 years, but will be kept longer anyway just because they feel like it.\"'}, 'Top9': {'headline': \"b'Georgian troops retreat from S. Osettain capital, presumably leaving several hundred people killed. [VIDEO]'\"}, 'Top10': {'headline': \"b'Did the U.S. Prep Georgia for War with Russia?'\"}, 'Top11': {'headline': \"b'Rice Gives Green Light for Israel to Attack Iran: Says U.S. has no veto over Israeli military ops'\"}, 'Top12': {'headline': \"b'Announcing:Class Action Lawsuit on Behalf of American Public Against the FBI'\"}, 'Top13': {'headline': 'b\"So---Russia and Georgia are at war and the NYT\\'s top story is opening ceremonies of the Olympics?  What a fucking disgrace and yet further proof of the decline of journalism.\"'}, 'Top14': {'headline': 'b\"China tells Bush to stay out of other countries\\' affairs\"'}, 'Top15': {'headline': \"b'Did World War III start today?'\"}, 'Top16': {'headline': \"b'Georgia Invades South Ossetia - if Russia gets involved, will NATO absorb Georgia and unleash a full scale war?'\"}, 'Top17': {'headline': \"b'Al-Qaeda Faces Islamist Backlash'\"}, 'Top18': {'headline': 'b\\'Condoleezza Rice: \"The US would not act to prevent an Israeli strike on Iran.\" Israeli Defense Minister Ehud Barak: \"Israel is prepared for uncompromising victory in the case of military hostilities.\"\\''}, 'Top19': {'headline': \"b'This is a busy day:  The European Union has approved new sanctions against Iran in protest at its nuclear programme.'\"}, 'Top20': {'headline': 'b\"Georgia will withdraw 1,000 soldiers from Iraq to help fight off Russian forces in Georgia\\'s breakaway region of South Ossetia\"'}, 'Top21': {'headline': \"b'Why the Pentagon Thinks Attacking Iran is a Bad Idea - US News &amp; World Report'\"}, 'Top22': {'headline': \"b'Caucasus in crisis: Georgia invades South Ossetia'\"}, 'Top23': {'headline': 'b\\'Indian shoe manufactory  - And again in a series of \"you do not like your work?\"\\''}, 'Top24': {'headline': \"b'Visitors Suffering from Mental Illnesses Banned from Olympics'\"}, 'Top25': {'headline': 'b\"No Help for Mexico\\'s Kidnapping Surge\"'}}}\n"
     ]
    }
   ],
   "source": [
    "cursor = db.data.find({}).limit(1)\n",
    "show(cursor)"
   ]
  },
  {
   "cell_type": "markdown",
   "id": "c8b43144",
   "metadata": {},
   "source": [
    "## 2. Preprocessing, Encoding into Binary Vector Representation."
   ]
  },
  {
   "cell_type": "code",
   "execution_count": 9,
   "id": "42bd12ee",
   "metadata": {},
   "outputs": [],
   "source": [
    "# A function for lowercasing, removing unnecessary letters, and splitting text into a list of words.\n",
    "def cleaning(string):\n",
    "    if string[0] == 'b':\n",
    "        string = string[1:]\n",
    "    string = re.sub(\"[^0-9a-z]\", \" \", string.lower()).split()\n",
    "    return string"
   ]
  },
  {
   "cell_type": "code",
   "execution_count": 10,
   "id": "27a31d74",
   "metadata": {},
   "outputs": [],
   "source": [
    "# Create a document for word counting.\n",
    "db.data.insert_one({\"category\": \"other\", \n",
    "                    \"name\": \"count\", \n",
    "                    \"count\": {}})\n",
    "count_id = db.data.find_one({\"category\": \"other\", \"name\": \"count\"})\n",
    "count_id = count_id[\"_id\"]"
   ]
  },
  {
   "cell_type": "code",
   "execution_count": 11,
   "id": "aa67229d",
   "metadata": {},
   "outputs": [
    {
     "name": "stdout",
     "output_type": "stream",
     "text": [
      "Processing 442-th data...\n",
      "Processing 718-th data...\n",
      "Processing 977-th data...\n",
      "Processing 1238-th data...\n",
      "Processing 1480-th data...\n",
      "Processing 1742-th data...\n"
     ]
    }
   ],
   "source": [
    "last = time.time()\n",
    "# Preprocess the document one by one.\n",
    "for i, doc in enumerate(db.data.find({\"$or\": [{\"category\": \"train\"}, {\"category\": \"test\"}]})):\n",
    "    words = {}\n",
    "    for rank in doc[\"news\"]:\n",
    "        # Each news headline is cleaned and stored.\n",
    "        cleaned = cleaning(doc[\"news\"][rank][\"headline\"])\n",
    "        db.data.update_one({\"_id\": doc[\"_id\"]}, {\"$set\": {\"news.\"+rank+\".parsed\": cleaned}})\n",
    "        # To focus on frequent words, perform the word counting.\n",
    "        if doc[\"category\"] == \"train\":\n",
    "            for word in cleaned:\n",
    "                if word in words.keys():\n",
    "                    words[word] += 1\n",
    "                else:\n",
    "                    words[word] = 1\n",
    "    # Save the word counting result to our word count document.\n",
    "    for word, n in words.items():\n",
    "        if db.data.count_documents({\"_id\": count_id, \"count.\"+word: {\"$exists\": True}}) == 0:\n",
    "            db.data.update_one({\"_id\": count_id}, {\"$set\": {\"count.\"+word: n}})\n",
    "        else:\n",
    "            db.data.update_one({\"_id\": count_id}, {\"$inc\": {\"count.\"+word: n}})\n",
    "    if time.time() - last > 600:\n",
    "        print(f\"Processing {i}-th data...\")\n",
    "        last = time.time()"
   ]
  },
  {
   "cell_type": "code",
   "execution_count": 12,
   "id": "a37171f3",
   "metadata": {},
   "outputs": [],
   "source": [
    "# Select the top 1000 frequent words.\n",
    "freq = []\n",
    "doc = db.data.find_one({\"_id\": count_id})\n",
    "for word in doc[\"count\"]:\n",
    "    freq.append(doc[\"count\"][word])\n",
    "freq.sort(reverse=True)\n",
    "threshold = freq[1000]"
   ]
  },
  {
   "cell_type": "code",
   "execution_count": 13,
   "id": "e2e43bed",
   "metadata": {},
   "outputs": [],
   "source": [
    "# Create a document for word-index mapping.\n",
    "db.data.insert_one({\"category\": \"other\", \n",
    "                    \"name\": \"word2index\", \n",
    "                    \"word2index\": {}})\n",
    "word2index_id = db.data.find_one({\"category\": \"other\", \"name\": \"count\"})\n",
    "word2index_id = word2index_id[\"_id\"]\n",
    "\n",
    "index = 0\n",
    "for word in doc[\"count\"]:\n",
    "    if doc[\"count\"][word] > threshold:\n",
    "        db.data.update_one({\"_id\": word2index_id}, {\"$set\": {\"word2index.\"+word: index}})\n",
    "        index += 1"
   ]
  },
  {
   "cell_type": "code",
   "execution_count": 14,
   "id": "36f055b3",
   "metadata": {},
   "outputs": [],
   "source": [
    "# A function to convert text into a binary vector.\n",
    "# Instead of keeping the whole vector, we keep the index of entries having 1.\n",
    "def encode(words):\n",
    "    ret = set()\n",
    "    for word in words:\n",
    "        if db.data.count_documents({\"_id\": word2index_id, \"word2index.\"+word: {\"$exists\": True}}) > 0:\n",
    "            ret.add(db.data.find_one({\"_id\": word2index_id}, \n",
    "                                     projection={\"word2index.\"+word})[\"word2index\"][word])\n",
    "    return list(ret)\n",
    "\n",
    "# A function for Min-Hash (A function used for estimating Jaccard Similarity).\n",
    "def minhash(lst, a, b, prime):\n",
    "    arr = np.array(lst)\n",
    "    hash_arr = (a[:, None] * arr[None, :] + b[:, None]) % prime\n",
    "    return np.min(hash_arr, axis=1).tolist()\n",
    "\n",
    "# A function for computing Jaccard Similarity.\n",
    "def Jaccard(lst1, lst2):\n",
    "    set1, set2 = set(lst1), set(lst2)\n",
    "    return len(set1 & set2) / len(set1 | set2)\n",
    "\n",
    "# A function for estimating Jaccard Similarity from Min-Hash.\n",
    "def JaccardEstimate(lst1, lst2, k):\n",
    "    return sum(np.array(lst1)==np.array(lst2)) / k\n",
    "\n",
    "# Parameters.\n",
    "# k: Number of hash functions in Min-Hash.\n",
    "# prime, a, b: Our hash functions.\n",
    "k = 120\n",
    "prime = 8191\n",
    "a = np.random.randint(1, prime, k)\n",
    "b = np.random.randint(0, prime, k)"
   ]
  },
  {
   "cell_type": "code",
   "execution_count": 15,
   "id": "2e66954c",
   "metadata": {},
   "outputs": [
    {
     "name": "stdout",
     "output_type": "stream",
     "text": [
      "Processing 592-th data...\n",
      "Processing 1152-th data...\n",
      "Processing 1673-th data...\n"
     ]
    }
   ],
   "source": [
    "# Encoding texts into binary vectors, and store them in the MongoDB.\n",
    "last = time.time()\n",
    "for i, doc in enumerate(db.data.find({\"$or\": [{\"category\": \"train\"}, {\"category\": \"test\"}]})):\n",
    "    words = []\n",
    "    for rank in doc[\"news\"]:\n",
    "        words += doc[\"news\"][rank][\"parsed\"]\n",
    "    lst = encode(words)\n",
    "    db.data.update_one({\"_id\": doc[\"_id\"]}, {\"$set\": {\"birep\": lst, \"hash\": minhash(lst, a, b, prime)}})\n",
    "    if time.time() - last > 600:\n",
    "        print(f\"Processing {i}-th data...\")\n",
    "        last = time.time()"
   ]
  },
  {
   "cell_type": "code",
   "execution_count": 16,
   "id": "f238961c",
   "metadata": {},
   "outputs": [
    {
     "name": "stdout",
     "output_type": "stream",
     "text": [
      "{'_id': ObjectId('639e0288587af75749150ef5'), 'category': 'train', 'Date': '2008-08-08', 'Label': '0', 'news': {'Top1': {'headline': 'b\"Georgia \\'downs two Russian warplanes\\' as countries move to brink of war\"', 'parsed': ['georgia', 'downs', 'two', 'russian', 'warplanes', 'as', 'countries', 'move', 'to', 'brink', 'of', 'war']}, 'Top2': {'headline': \"b'BREAKING: Musharraf to be impeached.'\", 'parsed': ['breaking', 'musharraf', 'to', 'be', 'impeached']}, 'Top3': {'headline': \"b'Russia Today: Columns of troops roll into South Ossetia; footage from fighting (YouTube)'\", 'parsed': ['russia', 'today', 'columns', 'of', 'troops', 'roll', 'into', 'south', 'ossetia', 'footage', 'from', 'fighting', 'youtube']}, 'Top4': {'headline': \"b'Russian tanks are moving towards the capital of South Ossetia, which has reportedly been completely destroyed by Georgian artillery fire'\", 'parsed': ['russian', 'tanks', 'are', 'moving', 'towards', 'the', 'capital', 'of', 'south', 'ossetia', 'which', 'has', 'reportedly', 'been', 'completely', 'destroyed', 'by', 'georgian', 'artillery', 'fire']}, 'Top5': {'headline': 'b\"Afghan children raped with \\'impunity,\\' U.N. official says - this is sick, a three year old was raped and they do nothing\"', 'parsed': ['afghan', 'children', 'raped', 'with', 'impunity', 'u', 'n', 'official', 'says', 'this', 'is', 'sick', 'a', 'three', 'year', 'old', 'was', 'raped', 'and', 'they', 'do', 'nothing']}, 'Top6': {'headline': \"b'150 Russian tanks have entered South Ossetia whilst Georgia shoots down two Russian jets.'\", 'parsed': ['150', 'russian', 'tanks', 'have', 'entered', 'south', 'ossetia', 'whilst', 'georgia', 'shoots', 'down', 'two', 'russian', 'jets']}, 'Top7': {'headline': 'b\"Breaking: Georgia invades South Ossetia, Russia warned it would intervene on SO\\'s side\"', 'parsed': ['breaking', 'georgia', 'invades', 'south', 'ossetia', 'russia', 'warned', 'it', 'would', 'intervene', 'on', 'so', 's', 'side']}, 'Top8': {'headline': 'b\"The \\'enemy combatent\\' trials are nothing but a sham: Salim Haman has been sentenced to 5 1/2 years, but will be kept longer anyway just because they feel like it.\"', 'parsed': ['the', 'enemy', 'combatent', 'trials', 'are', 'nothing', 'but', 'a', 'sham', 'salim', 'haman', 'has', 'been', 'sentenced', 'to', '5', '1', '2', 'years', 'but', 'will', 'be', 'kept', 'longer', 'anyway', 'just', 'because', 'they', 'feel', 'like', 'it']}, 'Top9': {'headline': \"b'Georgian troops retreat from S. Osettain capital, presumably leaving several hundred people killed. [VIDEO]'\", 'parsed': ['georgian', 'troops', 'retreat', 'from', 's', 'osettain', 'capital', 'presumably', 'leaving', 'several', 'hundred', 'people', 'killed', 'video']}, 'Top10': {'headline': \"b'Did the U.S. Prep Georgia for War with Russia?'\", 'parsed': ['did', 'the', 'u', 's', 'prep', 'georgia', 'for', 'war', 'with', 'russia']}, 'Top11': {'headline': \"b'Rice Gives Green Light for Israel to Attack Iran: Says U.S. has no veto over Israeli military ops'\", 'parsed': ['rice', 'gives', 'green', 'light', 'for', 'israel', 'to', 'attack', 'iran', 'says', 'u', 's', 'has', 'no', 'veto', 'over', 'israeli', 'military', 'ops']}, 'Top12': {'headline': \"b'Announcing:Class Action Lawsuit on Behalf of American Public Against the FBI'\", 'parsed': ['announcing', 'class', 'action', 'lawsuit', 'on', 'behalf', 'of', 'american', 'public', 'against', 'the', 'fbi']}, 'Top13': {'headline': 'b\"So---Russia and Georgia are at war and the NYT\\'s top story is opening ceremonies of the Olympics?  What a fucking disgrace and yet further proof of the decline of journalism.\"', 'parsed': ['so', 'russia', 'and', 'georgia', 'are', 'at', 'war', 'and', 'the', 'nyt', 's', 'top', 'story', 'is', 'opening', 'ceremonies', 'of', 'the', 'olympics', 'what', 'a', 'fucking', 'disgrace', 'and', 'yet', 'further', 'proof', 'of', 'the', 'decline', 'of', 'journalism']}, 'Top14': {'headline': 'b\"China tells Bush to stay out of other countries\\' affairs\"', 'parsed': ['china', 'tells', 'bush', 'to', 'stay', 'out', 'of', 'other', 'countries', 'affairs']}, 'Top15': {'headline': \"b'Did World War III start today?'\", 'parsed': ['did', 'world', 'war', 'iii', 'start', 'today']}, 'Top16': {'headline': \"b'Georgia Invades South Ossetia - if Russia gets involved, will NATO absorb Georgia and unleash a full scale war?'\", 'parsed': ['georgia', 'invades', 'south', 'ossetia', 'if', 'russia', 'gets', 'involved', 'will', 'nato', 'absorb', 'georgia', 'and', 'unleash', 'a', 'full', 'scale', 'war']}, 'Top17': {'headline': \"b'Al-Qaeda Faces Islamist Backlash'\", 'parsed': ['al', 'qaeda', 'faces', 'islamist', 'backlash']}, 'Top18': {'headline': 'b\\'Condoleezza Rice: \"The US would not act to prevent an Israeli strike on Iran.\" Israeli Defense Minister Ehud Barak: \"Israel is prepared for uncompromising victory in the case of military hostilities.\"\\'', 'parsed': ['condoleezza', 'rice', 'the', 'us', 'would', 'not', 'act', 'to', 'prevent', 'an', 'israeli', 'strike', 'on', 'iran', 'israeli', 'defense', 'minister', 'ehud', 'barak', 'israel', 'is', 'prepared', 'for', 'uncompromising', 'victory', 'in', 'the', 'case', 'of', 'military', 'hostilities']}, 'Top19': {'headline': \"b'This is a busy day:  The European Union has approved new sanctions against Iran in protest at its nuclear programme.'\", 'parsed': ['this', 'is', 'a', 'busy', 'day', 'the', 'european', 'union', 'has', 'approved', 'new', 'sanctions', 'against', 'iran', 'in', 'protest', 'at', 'its', 'nuclear', 'programme']}, 'Top20': {'headline': 'b\"Georgia will withdraw 1,000 soldiers from Iraq to help fight off Russian forces in Georgia\\'s breakaway region of South Ossetia\"', 'parsed': ['georgia', 'will', 'withdraw', '1', '000', 'soldiers', 'from', 'iraq', 'to', 'help', 'fight', 'off', 'russian', 'forces', 'in', 'georgia', 's', 'breakaway', 'region', 'of', 'south', 'ossetia']}, 'Top21': {'headline': \"b'Why the Pentagon Thinks Attacking Iran is a Bad Idea - US News &amp; World Report'\", 'parsed': ['why', 'the', 'pentagon', 'thinks', 'attacking', 'iran', 'is', 'a', 'bad', 'idea', 'us', 'news', 'amp', 'world', 'report']}, 'Top22': {'headline': \"b'Caucasus in crisis: Georgia invades South Ossetia'\", 'parsed': ['caucasus', 'in', 'crisis', 'georgia', 'invades', 'south', 'ossetia']}, 'Top23': {'headline': 'b\\'Indian shoe manufactory  - And again in a series of \"you do not like your work?\"\\'', 'parsed': ['indian', 'shoe', 'manufactory', 'and', 'again', 'in', 'a', 'series', 'of', 'you', 'do', 'not', 'like', 'your', 'work']}, 'Top24': {'headline': \"b'Visitors Suffering from Mental Illnesses Banned from Olympics'\", 'parsed': ['visitors', 'suffering', 'from', 'mental', 'illnesses', 'banned', 'from', 'olympics']}, 'Top25': {'headline': 'b\"No Help for Mexico\\'s Kidnapping Surge\"', 'parsed': ['no', 'help', 'for', 'mexico', 's', 'kidnapping', 'surge']}}, 'birep': [0, 1, 2, 3, 4, 5, 6, 7, 8, 9, 10, 11, 12, 13, 14, 15, 16, 17, 18, 19, 20, 21, 22, 23, 24, 25, 26, 27, 28, 29, 30, 31, 32, 33, 34, 35, 36, 37, 38, 39, 40, 41, 42, 43, 44, 45, 46, 47, 48, 49, 50, 51, 52, 53, 54, 55, 56, 57, 58, 59, 60, 61, 62, 63, 64, 65, 66, 67, 68, 69, 70, 71, 72, 73, 74, 75, 76, 77, 78, 79, 80, 81, 82, 83, 84, 85, 86, 87, 88, 89, 90, 91, 92, 93, 94, 95, 96, 97, 98, 99, 100, 101, 102, 103, 104, 105, 106, 107, 108, 109, 110, 111, 112, 113, 114, 115, 116, 117, 118, 119, 120, 121, 122, 123, 124, 125, 126, 127, 128, 129, 130, 131, 132, 133, 134, 135, 136, 137, 138, 139, 140], 'hash': [31, 44, 20, 21, 47, 11, 13, 24, 3646, 26, 85, 44, 9, 1705, 37, 8, 10, 52, 31, 26, 139, 71, 21, 49, 11, 50, 131, 138, 81, 8, 9, 31, 91, 26, 13, 6, 252, 2, 32, 22, 16, 47, 22, 39, 65, 86, 64, 1, 63, 23, 7, 20, 95, 58, 11, 52, 4, 112, 132, 22, 199, 8, 34, 43, 77, 64, 88, 30, 37, 6, 19, 48, 54, 12, 83, 62, 21, 61, 23, 7, 1409, 6, 6, 4, 26, 64, 6, 26, 51, 40, 12, 35, 7, 85, 14, 12, 75, 24, 26, 5, 0, 255, 12, 39, 57, 21, 32, 33, 3, 28, 33, 23, 38, 38, 352, 34, 133, 28, 86, 14]}\n"
     ]
    }
   ],
   "source": [
    "cursor = db.data.find({}).limit(1)\n",
    "show(cursor)"
   ]
  },
  {
   "cell_type": "markdown",
   "id": "69795c88",
   "metadata": {},
   "source": [
    "## 3. Prediction with Locality Sensitive Hashing."
   ]
  },
  {
   "cell_type": "code",
   "execution_count": 17,
   "id": "a3711101",
   "metadata": {},
   "outputs": [],
   "source": [
    "# Parameters.\n",
    "# r: Number of bands in LSH.\n",
    "# prime, a, b: Our hash functions.\n",
    "r = 2\n",
    "prime = 35027\n",
    "a_c = np.random.randint(1, prime, r)\n",
    "b_c = np.random.randint(0, prime, r)\n",
    "# A function for Min-Hash (A function used for locality sensitive hashing).\n",
    "def MinHash(lst, a, b, prime):\n",
    "    arr = np.array(lst)\n",
    "    hash_arr = (a[:, None] * arr[None, :] + b[:, None]) % prime\n",
    "    return np.min(hash_arr, axis=1)\n",
    "\n",
    "# Parameters.\n",
    "# t: Number of tables in LSH.\n",
    "# prime, a, b: Our hash functions.\n",
    "t = 100\n",
    "a_g = np.random.randint(1, prime, (t, r))\n",
    "b_g = np.random.randint(0, prime, t)\n",
    "# A function for finding bins to store each data.\n",
    "def LSH(arr, a, b, prime):\n",
    "    hash_arr = (np.dot(a, arr) + b) % prime\n",
    "    return hash_arr"
   ]
  },
  {
   "cell_type": "code",
   "execution_count": 18,
   "id": "29ffba5f",
   "metadata": {},
   "outputs": [
    {
     "name": "stdout",
     "output_type": "stream",
     "text": [
      "Processing 1571-th data...\n"
     ]
    }
   ],
   "source": [
    "# Create a document for LSH.\n",
    "last = time.time()\n",
    "db.data.insert_one({\"category\": \"other\", \n",
    "                    \"name\": \"lsh\", \n",
    "                    \"lsh\": {}})\n",
    "lsh_id = db.data.find_one({\"category\": \"other\", \"name\": \"lsh\"})\n",
    "lsh_id = lsh_id[\"_id\"]\n",
    "\n",
    "for i, doc in enumerate(db.data.find({\"category\": \"train\"})):\n",
    "    bins = LSH(MinHash(doc[\"birep\"], a_c, b_c, prime), a_g, b_g, prime)\n",
    "    for b in bins:\n",
    "        if db.data.count_documents({\"_id\": lsh_id, \"lsh.\"+str(b): {\"$exists\": True}}) == 0:\n",
    "            db.data.update_one({\"_id\": lsh_id}, {\"$set\": {\"count.\"+str(b): [doc[\"_id\"]]}})\n",
    "        else:\n",
    "            db.data.update_one({\"_id\": lsh_id}, {\"$push\": {\"count.\"+str(b): [doc[\"_id\"]]}})\n",
    "    if time.time() - last > 600:\n",
    "        print(f\"Processing {i}-th data...\")\n",
    "        last = time.time()"
   ]
  },
  {
   "cell_type": "code",
   "execution_count": 34,
   "id": "cfbbbc38",
   "metadata": {},
   "outputs": [],
   "source": [
    "# Make a prediction.\n",
    "prediction = []\n",
    "num_query = []\n",
    "doc = db.data.find_one({\"_id\": lsh_id})\n",
    "lsh_map = doc[\"count\"]\n",
    "for i, doc_test in enumerate(db.data.find({\"category\": \"test\"})):\n",
    "    # Find bins to check.\n",
    "    bins = LSH(MinHash(doc_test[\"birep\"], a_c, b_c, prime), a_g, b_g, prime)\n",
    "    # Find training data ID to compare the similarity.\n",
    "    candidate = set()\n",
    "    for b in bins:\n",
    "        if str(b) in lsh_map.keys():\n",
    "            for _id in lsh_map[str(b)]:\n",
    "                candidate.add(_id)\n",
    "    # num_query is to track how many queries we make.\n",
    "    num_query.append(len(candidate))\n",
    "    # Searching a binary vector with the highest similarity.\n",
    "    best_id, best_js = -1, -1\n",
    "    for doc_train in db.data.find({\"_id\": {\"$in\": list(candidate)}}):\n",
    "        js = Jaccard(doc_test[\"birep\"], doc_train[\"birep\"])\n",
    "        # Instead of computing the exact Jaccard similarity, we can use the following line to make calculation faster with the use of Min-Hash.\n",
    "        # js = JaccardEstimate(doc_test[\"hash\"], doc_train[\"hash\"])\n",
    "        if best_js < js:\n",
    "            best_js = js\n",
    "            best_id = doc_train[\"_id\"]\n",
    "    best_doc = db.data.find_one({\"_id\": best_id})\n",
    "    if best_doc[\"Label\"] == doc_test[\"Label\"]:\n",
    "        prediction.append(1)\n",
    "    else:\n",
    "        prediction.append(0)"
   ]
  },
  {
   "cell_type": "code",
   "execution_count": 35,
   "id": "4fab3d05",
   "metadata": {},
   "outputs": [
    {
     "name": "stdout",
     "output_type": "stream",
     "text": [
      "Test Accuracy: 0.545\n"
     ]
    }
   ],
   "source": [
    "# Finally, check the accuracy.\n",
    "acc = sum(prediction) / len(prediction)\n",
    "print(f\"Test Accuracy: {acc}\")"
   ]
  },
  {
   "cell_type": "code",
   "execution_count": 36,
   "id": "ca9fbafb",
   "metadata": {},
   "outputs": [
    {
     "name": "stdout",
     "output_type": "stream",
     "text": [
      "Number of Queries: 7.55\n"
     ]
    }
   ],
   "source": [
    "# Check the number of queries on average.\n",
    "ave_query = np.mean(np.array(num_query))\n",
    "print(f\"Number of Queries: {ave_query}\")"
   ]
  },
  {
   "cell_type": "code",
   "execution_count": null,
   "id": "241a5624",
   "metadata": {},
   "outputs": [],
   "source": []
  }
 ],
 "metadata": {
  "kernelspec": {
   "display_name": "Python 3",
   "language": "python",
   "name": "python3"
  },
  "language_info": {
   "codemirror_mode": {
    "name": "ipython",
    "version": 3
   },
   "file_extension": ".py",
   "mimetype": "text/x-python",
   "name": "python",
   "nbconvert_exporter": "python",
   "pygments_lexer": "ipython3",
   "version": "3.7.11"
  }
 },
 "nbformat": 4,
 "nbformat_minor": 5
}
